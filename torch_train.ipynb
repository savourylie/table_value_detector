{
 "cells": [
  {
   "cell_type": "code",
   "execution_count": 1,
   "metadata": {},
   "outputs": [
    {
     "data": {
      "text/plain": [
       "9L"
      ]
     },
     "execution_count": 1,
     "metadata": {},
     "output_type": "execute_result"
    }
   ],
   "source": [
    "from __future__ import division, print_function\n",
    "\n",
    "import torch\n",
    "from torch import nn\n",
    "from torch.utils.data import Dataset, DataLoader\n",
    "from glob import glob\n",
    "from imageio import imread\n",
    "import torch.nn as nn\n",
    "import matplotlib.pyplot as plt\n",
    "import numpy as np\n",
    "\n",
    "%matplotlib inline\n",
    "\n",
    "torch.cuda.device_count()"
   ]
  },
  {
   "cell_type": "code",
   "execution_count": 2,
   "metadata": {},
   "outputs": [
    {
     "name": "stdout",
     "output_type": "stream",
     "text": [
      "True\n"
     ]
    }
   ],
   "source": [
    "print(torch.cuda.is_available())"
   ]
  },
  {
   "cell_type": "code",
   "execution_count": 3,
   "metadata": {},
   "outputs": [],
   "source": [
    "# class TableDataset(Dataset):\n",
    "#     \"\"\"The training table dataset.\n",
    "#     \"\"\"\n",
    "#     def __init__(self, x_path=None, y_path=None):\n",
    "#         if x_path is None or y_path is None:\n",
    "#             raise ValueError(\"No data source specified.\")\n",
    "        \n",
    "#         x_filenames = glob(x_path + '*.png')\n",
    "#         y_filenames = glob(y_path + '*.png')\n",
    "        \n",
    "#         self.x_data = [torch.from_numpy(self.normalize_image(imread(filename)).transpose(2, 0, 1)) for filename in x_filenames]\n",
    "#         self.y_data = [torch.from_numpy(self.normalize_image(imread(filename)).reshape(1, *imread(filename).shape)) for filename in y_filenames]\n",
    "#         self.len = len(self.x_data)\n",
    "        \n",
    "#     def __getitem__(self, index):\n",
    "#         return self.x_data[index], self.y_data[index]\n",
    "        \n",
    "#     def __len__(self):\n",
    "#         return self.len\n",
    "    \n",
    "#     def normalize_image(self, img):\n",
    "#         return img / 255\n",
    "        "
   ]
  },
  {
   "cell_type": "code",
   "execution_count": 4,
   "metadata": {},
   "outputs": [],
   "source": [
    "# dataset = TableDataset('/home/calvinku/projects/yangzhe/data/cell01/',\n",
    "#                        '/home/calvinku/projects/yangzhe/data/xu_label_cell01/')\n",
    "\n",
    "# train_loader = DataLoader(dataset=dataset,\n",
    "#                          batch_size=1,\n",
    "#                          shuffle=True,\n",
    "#                          num_workers=1)"
   ]
  },
  {
   "cell_type": "code",
   "execution_count": null,
   "metadata": {},
   "outputs": [],
   "source": [
    "img = imread('/home/calvinku/projects/yangzhe/data/cell01/1.png')\n",
    "label = imread('/home/calvinku/projects/yangzhe/data/xu_label_cell01/1.png')\n",
    "\n",
    "print(img.shape, label.shape)"
   ]
  },
  {
   "cell_type": "code",
   "execution_count": null,
   "metadata": {},
   "outputs": [],
   "source": [
    "print(img)"
   ]
  },
  {
   "cell_type": "code",
   "execution_count": null,
   "metadata": {},
   "outputs": [],
   "source": [
    "print(label)"
   ]
  },
  {
   "cell_type": "code",
   "execution_count": null,
   "metadata": {},
   "outputs": [],
   "source": [
    "plt.figure(figsize=(16, 9))\n",
    "plt.imshow(img)\n",
    "plt.show()\n",
    "\n",
    "plt.figure(figsize=(16, 9))\n",
    "plt.imshow(label, cmap='Greys')\n",
    "plt.show()"
   ]
  },
  {
   "cell_type": "code",
   "execution_count": 5,
   "metadata": {},
   "outputs": [],
   "source": [
    "class FCN(nn.Module):\n",
    "\n",
    "    def __init__(self):\n",
    "        super(FCN, self).__init__()\n",
    "        self.dropout = nn.Dropout2d(p=0.5)\n",
    "            \n",
    "        self.conv1 = nn.DataParallel(nn.Conv2d(3, 64, 3, stride=1, padding=0))\n",
    "        self.pool1 = nn.MaxPool2d(2, stride=1)\n",
    "        self.relu1 = nn.ELU()\n",
    "        \n",
    "        self.conv2 = nn.DataParallel(nn.Conv2d(64, 128, 3, stride=1, padding=0))\n",
    "        self.pool2 = nn.MaxPool2d(2, stride=1)\n",
    "        self.relu2 = nn.ELU()\n",
    "        \n",
    "        self.conv3 = nn.Conv2d(128, 512, 3, stride=1, padding=0)\n",
    "        self.pool3 = nn.MaxPool2d(2, stride=1)\n",
    "        self.relu3 = nn.ELU()\n",
    "                \n",
    "        self.deconv11 = nn.ConvTranspose2d(512, 128, kernel_size=3, stride=1, padding=0)\n",
    "        self.deconv12 = nn.ConvTranspose2d(128, 128, kernel_size=2, stride=1, padding=0)\n",
    "        self.relu4 = nn.ELU()\n",
    "        \n",
    "        self.deconv21 = nn.DataParallel(nn.ConvTranspose2d(128, 64, kernel_size=3, stride=1, padding=0))\n",
    "        self.deconv22 = nn.ConvTranspose2d(64, 64, kernel_size=2, stride=1, padding=0)\n",
    "        self.relu5 = nn.ELU()\n",
    "        \n",
    "        self.deconv31 = nn.DataParallel(nn.ConvTranspose2d(64, 1, kernel_size=3, stride=1, padding=0))\n",
    "        self.deconv32 = nn.ConvTranspose2d(1, 1, kernel_size=2, stride=1, padding=0)\n",
    "        self.sigmoid = nn.Sigmoid()\n",
    "        \n",
    "    def forward(self, x):\n",
    "        if self.training:\n",
    "            x = self.relu1(self.pool1(self.conv1(x)))\n",
    "            x = self.dropout(x)\n",
    "            x = self.relu2(self.pool2(self.conv2(x)))\n",
    "            x = self.dropout(x)\n",
    "    #         x = self.relu3(self.pool3(self.conv32(self.conv31(x))))\n",
    "\n",
    "    #         x = self.relu4(self.unpool1(self.deconv12(self.deconv11(x))))\n",
    "            x = self.relu5(self.deconv22(self.deconv21(x)))\n",
    "            x = self.dropout(x)\n",
    "            x = self.deconv32(self.deconv31(x))\n",
    "\n",
    "            x = self.sigmoid(x)\n",
    "        \n",
    "        else:\n",
    "            x = self.relu1(self.pool1(self.conv1(x)))\n",
    "            x = self.relu2(self.pool2(self.conv2(x)))\n",
    "    #         x = self.relu3(self.pool3(self.conv32(self.conv31(x))))\n",
    "    #         x = self.relu4(self.unpool1(self.deconv12(self.deconv11(x))))\n",
    "            x = self.relu5(self.deconv22(self.deconv21(x)))\n",
    "            x = self.deconv32(self.deconv31(x))\n",
    "\n",
    "            x = self.sigmoid(x)\n",
    "            \n",
    "        return x"
   ]
  },
  {
   "cell_type": "code",
   "execution_count": null,
   "metadata": {},
   "outputs": [],
   "source": [
    "# class FCN32s(nn.Module):\n",
    "\n",
    "#     def __init__(self, pretrained_net, n_class):\n",
    "#         super().__init__()\n",
    "#         self.n_class = n_class\n",
    "#         self.pretrained_net = pretrained_net\n",
    "#         self.relu    = nn.ReLU(inplace=True)\n",
    "#         self.deconv1 = nn.ConvTranspose2d(512, 512, kernel_size=3, stride=2, padding=1, dilation=1, output_padding=1)\n",
    "#         self.bn1     = nn.BatchNorm2d(512)\n",
    "#         self.deconv2 = nn.ConvTranspose2d(512, 256, kernel_size=3, stride=2, padding=1, dilation=1, output_padding=1)\n",
    "#         self.bn2     = nn.BatchNorm2d(256)\n",
    "#         self.deconv3 = nn.ConvTranspose2d(256, 128, kernel_size=3, stride=2, padding=1, dilation=1, output_padding=1)\n",
    "#         self.bn3     = nn.BatchNorm2d(128)\n",
    "#         self.deconv4 = nn.ConvTranspose2d(128, 64, kernel_size=3, stride=2, padding=1, dilation=1, output_padding=1)\n",
    "#         self.bn4     = nn.BatchNorm2d(64)\n",
    "#         self.deconv5 = nn.ConvTranspose2d(64, 32, kernel_size=3, stride=2, padding=1, dilation=1, output_padding=1)\n",
    "#         self.bn5     = nn.BatchNorm2d(32)\n",
    "#         self.classifier = nn.Conv2d(32, n_class, kernel_size=1)\n",
    "\n",
    "#     def forward(self, x):\n",
    "#         output = self.pretrained_net(x)\n",
    "#         x5 = output['x5']  # size=(N, 512, x.H/32, x.W/32)\n",
    "#         print(x5.shape)\n",
    "#         x = self.bn1(self.relu(self.deconv1(x5)))     # size=(N, 512, x.H/16, x.W/16)\n",
    "#         print(x.shape)\n",
    "#         x = self.bn2(self.relu(self.deconv2(x)))  # size=(N, 256, x.H/8, x.W/8)\n",
    "#         print(x.shape)\n",
    "#         x = self.bn3(self.relu(self.deconv3(x)))  # size=(N, 128, x.H/4, x.W/4)\n",
    "#         print(x.shape)\n",
    "#         x = self.bn4(self.relu(self.deconv4(x)))  # size=(N, 64, x.H/2, x.W/2)\n",
    "#         print(x.shape)\n",
    "#         x = self.bn5(self.relu(self.deconv5(x)))  # size=(N, 32, x.H, x.W)\n",
    "#         print(x.shape)\n",
    "#         x = self.classifier(x)                   # size=(N, n_class, x.H/1, x.W/1)\n",
    "#         print(x.shape)\n",
    "\n",
    "#         return x  # size=(N, n_class, x.H/1, x.W/1)"
   ]
  },
  {
   "cell_type": "code",
   "execution_count": 6,
   "metadata": {},
   "outputs": [],
   "source": [
    "def normalize_image(img):\n",
    "        return img / 255\n",
    "    \n",
    "def image_preprocessing(img, dtype):\n",
    "    if dtype == 'image':\n",
    "        img = normalize_image(img).transpose(2, 0, 1)\n",
    "        \n",
    "    elif dtype == 'label':\n",
    "        img = normalize_image(img).reshape(1, *img.shape)\n",
    "        \n",
    "    else:\n",
    "        raise ValueError(\"Wrong dtype!\")\n",
    "    \n",
    "    img = img.reshape(-1, *img.shape)\n",
    "    \n",
    "    return torch.from_numpy(img)\n",
    "    \n",
    "def dataloader(training=True):\n",
    "    if training:\n",
    "        x_path1 = '/home/calvinku/projects/yangzhe/data/cell01/*.png'\n",
    "        y_path1 = '/home/calvinku/projects/yangzhe/data/xu_label_cell01/*.png'\n",
    "        x_path2 = '/home/calvinku/projects/yangzhe/data/cell022/*.png'\n",
    "        y_path2 = '/home/calvinku/projects/yangzhe/data/xu_label_cell022/*.png'\n",
    "\n",
    "    else:\n",
    "        x_path1 = '/home/calvinku/projects/yangzhe/data/test/eu_bin/*.png'\n",
    "        y_path1 = '/home/calvinku/projects/yangzhe/data/test/xu_test_label/*.png'\n",
    "        x_path2 = ''\n",
    "        y_path2 = ''\n",
    "        \n",
    "    x_filenames = np.array(glob(x_path1) + glob(x_path2))\n",
    "    y_filenames = np.array(glob(y_path1) + glob(y_path2))\n",
    "\n",
    "    len_data = len(x_filenames)\n",
    "\n",
    "    shuffle_index = np.random.choice(range(len_data), size=len_data, replace=False)\n",
    "\n",
    "    x_filenames = x_filenames[shuffle_index]\n",
    "    y_filenames = y_filenames[shuffle_index]\n",
    "            \n",
    "    if len(x_filenames) != len(y_filenames):\n",
    "        raise ValueError(\"Data size doesn't match that of label.\")\n",
    "\n",
    "    for i, filename in enumerate(x_filenames):\n",
    "        img = imread(filename)\n",
    "        label = imread(y_filenames[i])\n",
    "\n",
    "#         x = normalize_image(img).transpose(2, 0, 1)\n",
    "#         y = normalize_image(label).reshape(1, *label.shape)\n",
    "\n",
    "#         x, y = x.reshape(-1, *x.shape), y.reshape(-1, *y.shape)\n",
    "#         x, y = torch.from_numpy(x), torch.from_numpy(y)    \n",
    "\n",
    "#         yield x, y\n",
    "        yield image_preprocessing(img, dtype='image'), image_preprocessing(label, dtype='label')\n",
    "        \n",
    "\n",
    "        "
   ]
  },
  {
   "cell_type": "code",
   "execution_count": 7,
   "metadata": {},
   "outputs": [],
   "source": [
    "# x_path = '/home/calvinku/projects/yangzhe/data/cell01/'\n",
    "# y_path = '/home/calvinku/projects/yangzhe/data/xu_label_cell01/'\n",
    "\n",
    "# data_gen = dataloader(x_path, y_path)\n",
    "\n",
    "# for i, data in enumerate(data_gen):\n",
    "#     x, y = data\n",
    "    \n",
    "#     print(x.shape, y.shape)\n",
    "    \n",
    "#     if i > 10:\n",
    "#         break\n"
   ]
  },
  {
   "cell_type": "code",
   "execution_count": 8,
   "metadata": {},
   "outputs": [
    {
     "name": "stdout",
     "output_type": "stream",
     "text": [
      "Epoch 0\n"
     ]
    },
    {
     "name": "stderr",
     "output_type": "stream",
     "text": [
      "/home/calvinku/pytorch/lib/python2.7/site-packages/ipykernel_launcher.py:66: UserWarning: invalid index of a 0-dim tensor. This will be an error in PyTorch 0.5. Use tensor.item() to convert a 0-dim tensor to a Python number\n",
      "/home/calvinku/pytorch/lib/python2.7/site-packages/ipykernel_launcher.py:69: UserWarning: invalid index of a 0-dim tensor. This will be an error in PyTorch 0.5. Use tensor.item() to convert a 0-dim tensor to a Python number\n"
     ]
    },
    {
     "name": "stdout",
     "output_type": "stream",
     "text": [
      "Iteration: 0, Loss: 0.551888167858\n"
     ]
    },
    {
     "ename": "RuntimeError",
     "evalue": "cuda runtime error (2) : out of memory at /pytorch/aten/src/THC/generic/THCStorage.cu:58",
     "output_type": "error",
     "traceback": [
      "\u001b[0;31m-----------------------------------------------------------------\u001b[0m",
      "\u001b[0;31mRuntimeError\u001b[0m                    Traceback (most recent call last)",
      "\u001b[0;32m<ipython-input-8-a9f92a691396>\u001b[0m in \u001b[0;36m<module>\u001b[0;34m()\u001b[0m\n\u001b[1;32m     59\u001b[0m \u001b[0;34m\u001b[0m\u001b[0m\n\u001b[1;32m     60\u001b[0m             \u001b[0mfcn_model\u001b[0m\u001b[0;34m.\u001b[0m\u001b[0mtrain\u001b[0m\u001b[0;34m(\u001b[0m\u001b[0;34m)\u001b[0m\u001b[0;34m\u001b[0m\u001b[0m\n\u001b[0;32m---> 61\u001b[0;31m             \u001b[0moutput\u001b[0m \u001b[0;34m=\u001b[0m \u001b[0mfcn_model\u001b[0m\u001b[0;34m(\u001b[0m\u001b[0mx\u001b[0m\u001b[0;34m)\u001b[0m\u001b[0;34m\u001b[0m\u001b[0m\n\u001b[0m\u001b[1;32m     62\u001b[0m \u001b[0;34m\u001b[0m\u001b[0m\n\u001b[1;32m     63\u001b[0m             \u001b[0mloss\u001b[0m \u001b[0;34m=\u001b[0m \u001b[0mcriterion\u001b[0m\u001b[0;34m(\u001b[0m\u001b[0moutput\u001b[0m\u001b[0;34m,\u001b[0m \u001b[0my\u001b[0m\u001b[0;34m)\u001b[0m\u001b[0;34m\u001b[0m\u001b[0m\n",
      "\u001b[0;32m/home/calvinku/pytorch/local/lib/python2.7/site-packages/torch/nn/modules/module.pyc\u001b[0m in \u001b[0;36m__call__\u001b[0;34m(self, *input, **kwargs)\u001b[0m\n\u001b[1;32m    489\u001b[0m             \u001b[0mresult\u001b[0m \u001b[0;34m=\u001b[0m \u001b[0mself\u001b[0m\u001b[0;34m.\u001b[0m\u001b[0m_slow_forward\u001b[0m\u001b[0;34m(\u001b[0m\u001b[0;34m*\u001b[0m\u001b[0minput\u001b[0m\u001b[0;34m,\u001b[0m \u001b[0;34m**\u001b[0m\u001b[0mkwargs\u001b[0m\u001b[0;34m)\u001b[0m\u001b[0;34m\u001b[0m\u001b[0m\n\u001b[1;32m    490\u001b[0m         \u001b[0;32melse\u001b[0m\u001b[0;34m:\u001b[0m\u001b[0;34m\u001b[0m\u001b[0m\n\u001b[0;32m--> 491\u001b[0;31m             \u001b[0mresult\u001b[0m \u001b[0;34m=\u001b[0m \u001b[0mself\u001b[0m\u001b[0;34m.\u001b[0m\u001b[0mforward\u001b[0m\u001b[0;34m(\u001b[0m\u001b[0;34m*\u001b[0m\u001b[0minput\u001b[0m\u001b[0;34m,\u001b[0m \u001b[0;34m**\u001b[0m\u001b[0mkwargs\u001b[0m\u001b[0;34m)\u001b[0m\u001b[0;34m\u001b[0m\u001b[0m\n\u001b[0m\u001b[1;32m    492\u001b[0m         \u001b[0;32mfor\u001b[0m \u001b[0mhook\u001b[0m \u001b[0;32min\u001b[0m \u001b[0mself\u001b[0m\u001b[0;34m.\u001b[0m\u001b[0m_forward_hooks\u001b[0m\u001b[0;34m.\u001b[0m\u001b[0mvalues\u001b[0m\u001b[0;34m(\u001b[0m\u001b[0;34m)\u001b[0m\u001b[0;34m:\u001b[0m\u001b[0;34m\u001b[0m\u001b[0m\n\u001b[1;32m    493\u001b[0m             \u001b[0mhook_result\u001b[0m \u001b[0;34m=\u001b[0m \u001b[0mhook\u001b[0m\u001b[0;34m(\u001b[0m\u001b[0mself\u001b[0m\u001b[0;34m,\u001b[0m \u001b[0minput\u001b[0m\u001b[0;34m,\u001b[0m \u001b[0mresult\u001b[0m\u001b[0;34m)\u001b[0m\u001b[0;34m\u001b[0m\u001b[0m\n",
      "\u001b[0;32m/home/calvinku/pytorch/local/lib/python2.7/site-packages/torch/nn/parallel/data_parallel.pyc\u001b[0m in \u001b[0;36mforward\u001b[0;34m(self, *inputs, **kwargs)\u001b[0m\n\u001b[1;32m    112\u001b[0m             \u001b[0;32mreturn\u001b[0m \u001b[0mself\u001b[0m\u001b[0;34m.\u001b[0m\u001b[0mmodule\u001b[0m\u001b[0;34m(\u001b[0m\u001b[0;34m*\u001b[0m\u001b[0minputs\u001b[0m\u001b[0;34m[\u001b[0m\u001b[0;36m0\u001b[0m\u001b[0;34m]\u001b[0m\u001b[0;34m,\u001b[0m \u001b[0;34m**\u001b[0m\u001b[0mkwargs\u001b[0m\u001b[0;34m[\u001b[0m\u001b[0;36m0\u001b[0m\u001b[0;34m]\u001b[0m\u001b[0;34m)\u001b[0m\u001b[0;34m\u001b[0m\u001b[0m\n\u001b[1;32m    113\u001b[0m         \u001b[0mreplicas\u001b[0m \u001b[0;34m=\u001b[0m \u001b[0mself\u001b[0m\u001b[0;34m.\u001b[0m\u001b[0mreplicate\u001b[0m\u001b[0;34m(\u001b[0m\u001b[0mself\u001b[0m\u001b[0;34m.\u001b[0m\u001b[0mmodule\u001b[0m\u001b[0;34m,\u001b[0m \u001b[0mself\u001b[0m\u001b[0;34m.\u001b[0m\u001b[0mdevice_ids\u001b[0m\u001b[0;34m[\u001b[0m\u001b[0;34m:\u001b[0m\u001b[0mlen\u001b[0m\u001b[0;34m(\u001b[0m\u001b[0minputs\u001b[0m\u001b[0;34m)\u001b[0m\u001b[0;34m]\u001b[0m\u001b[0;34m)\u001b[0m\u001b[0;34m\u001b[0m\u001b[0m\n\u001b[0;32m--> 114\u001b[0;31m         \u001b[0moutputs\u001b[0m \u001b[0;34m=\u001b[0m \u001b[0mself\u001b[0m\u001b[0;34m.\u001b[0m\u001b[0mparallel_apply\u001b[0m\u001b[0;34m(\u001b[0m\u001b[0mreplicas\u001b[0m\u001b[0;34m,\u001b[0m \u001b[0minputs\u001b[0m\u001b[0;34m,\u001b[0m \u001b[0mkwargs\u001b[0m\u001b[0;34m)\u001b[0m\u001b[0;34m\u001b[0m\u001b[0m\n\u001b[0m\u001b[1;32m    115\u001b[0m         \u001b[0;32mreturn\u001b[0m \u001b[0mself\u001b[0m\u001b[0;34m.\u001b[0m\u001b[0mgather\u001b[0m\u001b[0;34m(\u001b[0m\u001b[0moutputs\u001b[0m\u001b[0;34m,\u001b[0m \u001b[0mself\u001b[0m\u001b[0;34m.\u001b[0m\u001b[0moutput_device\u001b[0m\u001b[0;34m)\u001b[0m\u001b[0;34m\u001b[0m\u001b[0m\n\u001b[1;32m    116\u001b[0m \u001b[0;34m\u001b[0m\u001b[0m\n",
      "\u001b[0;32m/home/calvinku/pytorch/local/lib/python2.7/site-packages/torch/nn/parallel/data_parallel.pyc\u001b[0m in \u001b[0;36mparallel_apply\u001b[0;34m(self, replicas, inputs, kwargs)\u001b[0m\n\u001b[1;32m    122\u001b[0m \u001b[0;34m\u001b[0m\u001b[0m\n\u001b[1;32m    123\u001b[0m     \u001b[0;32mdef\u001b[0m \u001b[0mparallel_apply\u001b[0m\u001b[0;34m(\u001b[0m\u001b[0mself\u001b[0m\u001b[0;34m,\u001b[0m \u001b[0mreplicas\u001b[0m\u001b[0;34m,\u001b[0m \u001b[0minputs\u001b[0m\u001b[0;34m,\u001b[0m \u001b[0mkwargs\u001b[0m\u001b[0;34m)\u001b[0m\u001b[0;34m:\u001b[0m\u001b[0;34m\u001b[0m\u001b[0m\n\u001b[0;32m--> 124\u001b[0;31m         \u001b[0;32mreturn\u001b[0m \u001b[0mparallel_apply\u001b[0m\u001b[0;34m(\u001b[0m\u001b[0mreplicas\u001b[0m\u001b[0;34m,\u001b[0m \u001b[0minputs\u001b[0m\u001b[0;34m,\u001b[0m \u001b[0mkwargs\u001b[0m\u001b[0;34m,\u001b[0m \u001b[0mself\u001b[0m\u001b[0;34m.\u001b[0m\u001b[0mdevice_ids\u001b[0m\u001b[0;34m[\u001b[0m\u001b[0;34m:\u001b[0m\u001b[0mlen\u001b[0m\u001b[0;34m(\u001b[0m\u001b[0mreplicas\u001b[0m\u001b[0;34m)\u001b[0m\u001b[0;34m]\u001b[0m\u001b[0;34m)\u001b[0m\u001b[0;34m\u001b[0m\u001b[0m\n\u001b[0m\u001b[1;32m    125\u001b[0m \u001b[0;34m\u001b[0m\u001b[0m\n\u001b[1;32m    126\u001b[0m     \u001b[0;32mdef\u001b[0m \u001b[0mgather\u001b[0m\u001b[0;34m(\u001b[0m\u001b[0mself\u001b[0m\u001b[0;34m,\u001b[0m \u001b[0moutputs\u001b[0m\u001b[0;34m,\u001b[0m \u001b[0moutput_device\u001b[0m\u001b[0;34m)\u001b[0m\u001b[0;34m:\u001b[0m\u001b[0;34m\u001b[0m\u001b[0m\n",
      "\u001b[0;32m/home/calvinku/pytorch/local/lib/python2.7/site-packages/torch/nn/parallel/parallel_apply.pyc\u001b[0m in \u001b[0;36mparallel_apply\u001b[0;34m(modules, inputs, kwargs_tup, devices)\u001b[0m\n\u001b[1;32m     63\u001b[0m         \u001b[0moutput\u001b[0m \u001b[0;34m=\u001b[0m \u001b[0mresults\u001b[0m\u001b[0;34m[\u001b[0m\u001b[0mi\u001b[0m\u001b[0;34m]\u001b[0m\u001b[0;34m\u001b[0m\u001b[0m\n\u001b[1;32m     64\u001b[0m         \u001b[0;32mif\u001b[0m \u001b[0misinstance\u001b[0m\u001b[0;34m(\u001b[0m\u001b[0moutput\u001b[0m\u001b[0;34m,\u001b[0m \u001b[0mException\u001b[0m\u001b[0;34m)\u001b[0m\u001b[0;34m:\u001b[0m\u001b[0;34m\u001b[0m\u001b[0m\n\u001b[0;32m---> 65\u001b[0;31m             \u001b[0;32mraise\u001b[0m \u001b[0moutput\u001b[0m\u001b[0;34m\u001b[0m\u001b[0m\n\u001b[0m\u001b[1;32m     66\u001b[0m         \u001b[0moutputs\u001b[0m\u001b[0;34m.\u001b[0m\u001b[0mappend\u001b[0m\u001b[0;34m(\u001b[0m\u001b[0moutput\u001b[0m\u001b[0;34m)\u001b[0m\u001b[0;34m\u001b[0m\u001b[0m\n\u001b[1;32m     67\u001b[0m     \u001b[0;32mreturn\u001b[0m \u001b[0moutputs\u001b[0m\u001b[0;34m\u001b[0m\u001b[0m\n",
      "\u001b[0;31mRuntimeError\u001b[0m: cuda runtime error (2) : out of memory at /pytorch/aten/src/THC/generic/THCStorage.cu:58"
     ]
    }
   ],
   "source": [
    "# from torchvision import models\n",
    "import torch.optim as optim\n",
    "from torch.autograd import Variable\n",
    "\n",
    "if __name__ == \"__main__\":\n",
    "    num_epochs = 10\n",
    "    device = torch.device(\"cuda:0\" if torch.cuda.is_available() else \"cpu\")\n",
    "    \n",
    "#     # test output size\n",
    "#     vgg_model = VGGNet(requires_grad=True)\n",
    "#     input = torch.autograd.Variable(torch.randn(batch_size, 3, 224, 224))\n",
    "#     output = vgg_model(input)\n",
    "#     assert output['x5'].size() == torch.Size([batch_size, 512, 7, 7])\n",
    "\n",
    "#     fcn_model = FCN32s(pretrained_net=vgg_model, n_class=n_class)\n",
    "#     input = torch.autograd.Variable(torch.randn(batch_size, 3, h, w))\n",
    "#     output = fcn_model(input)\n",
    "#     assert output.size() == torch.Size([batch_size, n_class, h, w])\n",
    "\n",
    "#     print(\"Pass size check\")\n",
    "\n",
    "#     # test a random batch, loss should decrease\n",
    "\n",
    "#     pretrained_net = VGGNet()\n",
    "#     fcn_model = FCN32s(pretrained_net=pretrained_net, n_class=1)\n",
    "    fcn_model = FCN()\n",
    "    fcn_model = nn.DataParallel(fcn_model).to(device)\n",
    "    \n",
    "    if torch.cuda.is_available():\n",
    "        fcn_model.cuda()\n",
    "        \n",
    "#     criterion = nn.BCEWithLogitsLoss()\n",
    "    criterion = nn.BCELoss()\n",
    "    optimizer = optim.SGD(fcn_model.parameters(), lr=1e-3, momentum=0.9)\n",
    "        \n",
    "#     num_layers  = len(list(fcn_model.parameters()))\n",
    "\n",
    "#     for i in range(num_layers):\n",
    "#         print(list(fcn_model.parameters())[i].size())\n",
    "        \n",
    "    epic_losses = []\n",
    "        \n",
    "    for epoch in range(num_epochs):\n",
    "        print(\"Epoch {}\".format(epoch))\n",
    "        data_gen = dataloader()\n",
    "        test_data_gen = dataloader(training=False)\n",
    "        \n",
    "        iter_losses = []\n",
    "        \n",
    "        for i, data in enumerate(data_gen):\n",
    "            x, y = data\n",
    "            x, y = Variable(x.type(torch.FloatTensor), requires_grad=False), Variable(y.type(torch.FloatTensor), requires_grad=False)\n",
    "            \n",
    "            if torch.cuda.is_available():\n",
    "                x = x.cuda()\n",
    "                y = y.cuda()\n",
    "            \n",
    "            optimizer.zero_grad()\n",
    "            \n",
    "            fcn_model.train()\n",
    "            output = fcn_model(x)\n",
    "                        \n",
    "            loss = criterion(output, y)\n",
    "            loss.backward()\n",
    "            \n",
    "            iter_losses.append(loss.data[0].item())\n",
    "            \n",
    "            if i % 200 == 0:\n",
    "                print(\"Iteration: {}, Loss: {}\".format(i, loss.data[0].item()))\n",
    "                \n",
    "            optimizer.step()\n",
    "            \n",
    "        epic_losses.append(sum(iter_losses) / len(iter_losses))\n",
    "        print(\"Epic loss: {}\".format(epic_losses[-1]))\n",
    "        \n",
    "#         test_losses = []\n",
    "        \n",
    "#         for i, test_data in enumerate(test_data_gen):\n",
    "#             x, y = test_data\n",
    "#             x, y = Variable(x.type(torch.FloatTensor), requires_grad=False), Variable(y.type(torch.FloatTensor), requires_grad=False)\n",
    "            \n",
    "#             if torch.cuda.is_available():\n",
    "#                 x = x.cuda()\n",
    "#                 y = y.cuda()\n",
    "                        \n",
    "#             fcn_model.eval()\n",
    "#             output = fcn_model(x)\n",
    "#             loss = criterion(output, y)\n",
    "#             test_losses.append(loss.data[0].item())\n",
    "            \n",
    "#         print(\"Test loss: {}\".format(sum(test_losses) / len(test_losses)))\n",
    "            \n",
    "        "
   ]
  },
  {
   "cell_type": "code",
   "execution_count": null,
   "metadata": {},
   "outputs": [],
   "source": [
    "# test_path = '/home/calvinku/projects/yangzhe/data/test/eu_bin/'\n",
    "# test_filenames = glob(test_path + '*.png')\n",
    "# test_index = np.random.choice(len(test_filenames))\n",
    "# test_img = imread(test_filenames[test_index])\n",
    "\n",
    "test_img = img\n",
    "\n",
    "img_torch = torch.from_numpy((normalize_image(test_img).reshape(-1, *test_img.shape).transpose(0, 3, 1, 2)))\n",
    "img_torch.shape\n",
    "img_torch = img_torch.type(torch.FloatTensor).cuda()\n",
    "\n",
    "seg = fcn_model(img_torch)"
   ]
  },
  {
   "cell_type": "code",
   "execution_count": null,
   "metadata": {},
   "outputs": [],
   "source": [
    "pred = seg.cpu().detach().numpy().reshape(seg.shape[1], seg.shape[2], seg.shape[3]).transpose(1, 2, 0)\n",
    "pred = pred.reshape(pred.shape[0], pred.shape[1])"
   ]
  },
  {
   "cell_type": "code",
   "execution_count": null,
   "metadata": {},
   "outputs": [],
   "source": [
    "pred[pred >= 0.5] = 1\n",
    "pred[pred < 0.5] = 0\n",
    "\n",
    "plt.figure(figsize=(16, 9))\n",
    "plt.imshow(pred)"
   ]
  },
  {
   "cell_type": "code",
   "execution_count": null,
   "metadata": {},
   "outputs": [],
   "source": [
    "import seaborn as sns\n",
    "\n",
    "plt.figure(figsize=(16, 9))\n",
    "sns.set_style(\"darkgrid\")\n",
    "plt.plot(losses)\n",
    "plt.show()\n"
   ]
  },
  {
   "cell_type": "code",
   "execution_count": null,
   "metadata": {},
   "outputs": [],
   "source": []
  }
 ],
 "metadata": {
  "kernelspec": {
   "display_name": "Python 2",
   "language": "python",
   "name": "python2"
  },
  "language_info": {
   "codemirror_mode": {
    "name": "ipython",
    "version": 2
   },
   "file_extension": ".py",
   "mimetype": "text/x-python",
   "name": "python",
   "nbconvert_exporter": "python",
   "pygments_lexer": "ipython2",
   "version": "2.7.12"
  }
 },
 "nbformat": 4,
 "nbformat_minor": 2
}
