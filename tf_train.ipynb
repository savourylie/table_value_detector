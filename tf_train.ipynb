{
 "cells": [
  {
   "cell_type": "code",
   "execution_count": 1,
   "metadata": {
    "collapsed": true
   },
   "outputs": [],
   "source": [
    "import os\n",
    "import numpy as np\n",
    "import tensorflow as tf"
   ]
  },
  {
   "cell_type": "code",
   "execution_count": 8,
   "metadata": {},
   "outputs": [
    {
     "data": {
      "text/plain": [
       "'1.3.0'"
      ]
     },
     "execution_count": 8,
     "metadata": {},
     "output_type": "execute_result"
    }
   ],
   "source": [
    "tf.__version__"
   ]
  },
  {
   "cell_type": "code",
   "execution_count": 2,
   "metadata": {
    "collapsed": true
   },
   "outputs": [],
   "source": [
    "# Hyperparams:\n",
    "g_keep_prob = 0.7\n",
    "g_learning_rate = 1e-4\n",
    "g_batch_size = 16"
   ]
  },
  {
   "cell_type": "code",
   "execution_count": 3,
   "metadata": {
    "collapsed": true
   },
   "outputs": [],
   "source": [
    "def load_vgg(sess, vgg_path):\n",
    "    \"\"\"\n",
    "    Load Pretrained VGG Model into TensorFlow.\n",
    "    :param sess: TensorFlow Session\n",
    "    :param vgg_path: Path to vgg folder, containing \"variables/\" and \"saved_model.pb\"\n",
    "    :return: Tuple of Tensors from VGG model (image_input, keep_prob, layer3_out, layer4_out, layer7_out)\n",
    "    \"\"\"\n",
    "    vgg_tag = 'vgg16'\n",
    "    vgg_input_tensor_name = 'image_input:0'\n",
    "    vgg_keep_prob_tensor_name = 'keep_prob:0'\n",
    "    vgg_layer3_out_tensor_name = 'layer3_out:0'\n",
    "    vgg_layer4_out_tensor_name = 'layer4_out:0'\n",
    "    vgg_layer7_out_tensor_name = 'layer7_out:0'\n",
    "    \n",
    "    vgg_model = tf.saved_model.loader.load(sess, [vgg_tag], vgg_path)\n",
    "\n",
    "    graph = tf.get_default_graph()\n",
    "    image_input = graph.get_tensor_by_name(vgg_input_tensor_name)\n",
    "    keep_prob = graph.get_tensor_by_name(vgg_keep_prob_tensor_name)\n",
    "    layer3 = graph.get_tensor_by_name(vgg_layer3_out_tensor_name)\n",
    "    layer4 = graph.get_tensor_by_name(vgg_layer4_out_tensor_name)\n",
    "    layer7 = graph.get_tensor_by_name(vgg_layer7_out_tensor_name)\n",
    "\n",
    "    return image_input, keep_prob, layer3, layer4, layer7"
   ]
  },
  {
   "cell_type": "code",
   "execution_count": 4,
   "metadata": {
    "collapsed": true
   },
   "outputs": [],
   "source": [
    "def conv_1x1(layer, num_classes, padding='same', kernel_regularizer=tf.contrib.layers.l2_regularizer(1e-3), layer_name='default_layer'):\n",
    "    \n",
    "    return tf.layers.conv2d(layer, num_classes, 1, 1, padding=padding, kernel_regularizer=kernel_regularizer, name=layer_name)"
   ]
  },
  {
   "cell_type": "code",
   "execution_count": null,
   "metadata": {
    "collapsed": true
   },
   "outputs": [],
   "source": [
    "def upsample(layer, num_outputs, kernel, strides, padding='same', kernel_regularizer=tf.contrib.layers.l2_regularizer(1e-3), layer_name='default'):\n",
    "    \"\"\"\n",
    "    Apply a two times upsample on x and return the result.\n",
    "    :x: 4-Rank Tensor\n",
    "    :return: TF Operation\n",
    "    \"\"\"\n",
    "    \n",
    "    return tf.layers.conv2d_transpose(layer, num_outputs, kernel, strides, padding=padding, kernel_regularizer=kernel_regularizer, name=layer_name)"
   ]
  },
  {
   "cell_type": "code",
   "execution_count": 5,
   "metadata": {
    "collapsed": true
   },
   "outputs": [],
   "source": [
    "def layers(vgg_layer3_out, vgg_layer4_out, vgg_layer7_out, num_classes):\n",
    "    \"\"\"\n",
    "    Create the layers for a fully convolutional network.  Build skip-layers using the vgg layers.\n",
    "    :param vgg_layer7_out: TF Tensor for VGG Layer 3 output\n",
    "    :param vgg_layer4_out: TF Tensor for VGG Layer 4 output\n",
    "    :param vgg_layer3_out: TF Tensor for VGG Layer 7 output\n",
    "    :param num_classes: Number of classes to classify\n",
    "    :return: The Tensor for the last layer of output\n",
    "    \"\"\"\n",
    "    \n",
    "    # Apply a 1x1 convolution to encoder layers\n",
    "    l7_conv1x1 = conv_1x1(vgg_layer7_out, num_classes, layer_name=\"l7_conv1x1\")\n",
    "    layer4_skip = conv_1x1(vgg_layer4_out, num_classes, layer_name=\"l4_conv1x1\")\n",
    "    layer3_skip = conv_1x1(vgg_layer3_out, num_classes, layer_name=\"l3_conv1x1\")\n",
    "\n",
    "    # Add decoder layers to the network with skip connections and upsampling\n",
    "    # Note: the kernel size and strides are the same as the example in Udacity Lectures\n",
    "    # Semantic Segmentation Scene Understanding Lesson 10-9: FCN-8 - Decoder\n",
    "    decoderlayer1 = upsample(layer=l7_conv1x1, num_outputs=num_classes, kernel=4, strides=2, layer_name=\"decoderlayer1\")\n",
    "    decoderlayer2 = tf.add(decoderlayer1, layer4_skip, name=\"decoderlayer2\")\n",
    "    decoderlayer3 = upsample(layer=decoderlayer2, num_outputs=num_classes, kernel=4, strides=2, layer_name=\"decoderlayer3\")\n",
    "    decoderlayer4 = tf.add(decoderlayer3, layer3_skip, name=\"decoderlayer4\")\n",
    "\n",
    "    decoderlayer_output = upsample(layer=decoderlayer4, num_outputs=num_classes, kernel=16, strides=8, layer_name=\"decoderlayer_output\")\n",
    "\n",
    "    return decoderlayer_output"
   ]
  },
  {
   "cell_type": "code",
   "execution_count": 6,
   "metadata": {
    "collapsed": true
   },
   "outputs": [],
   "source": [
    "def optimize(nn_last_layer, correct_label, learning_rate, num_classes):\n",
    "    \"\"\"\n",
    "    Build the TensorFLow loss and optimizer operations.\n",
    "    :param nn_last_layer: TF Tensor of the last layer in the neural network\n",
    "    :param correct_label: TF Placeholder for the correct label image\n",
    "    :param learning_rate: TF Placeholder for the learning rate\n",
    "    :param num_classes: Number of classes to classify\n",
    "    :return: Tuple of (logits, train_op, cross_entropy_loss)\n",
    "    \"\"\"\n",
    "    logits = tf.reshape(nn_last_layer, (-1, num_classes))\n",
    "    labels = tf.reshape(correct_label, (-1, num_classes))\n",
    "    cross_entropy_loss = tf.reduce_mean(tf.nn.softmax_cross_entropy_with_logits(labels=labels, logits=logits))\n",
    "\n",
    "    optimizer = tf.train.AdamOptimizer(learning_rate=learning_rate)\n",
    "    train_op = optimizer.minimize(cross_entropy_loss)\n",
    "\n",
    "    return logits, train_op, cross_entropy_loss"
   ]
  },
  {
   "cell_type": "code",
   "execution_count": 7,
   "metadata": {
    "collapsed": true
   },
   "outputs": [],
   "source": [
    "def train_nn(sess, epochs, batch_size, get_batches_fn, train_op, cross_entropy_loss, input_image,\n",
    "             correct_label, keep_prob, learning_rate):\n",
    "    \"\"\"\n",
    "    Train neural network and print out the loss during training.\n",
    "    :param sess: TF Session\n",
    "    :param epochs: Number of epochs\n",
    "    :param batch_size: Batch size\n",
    "    :param get_batches_fn: Function to get batches of training data.  Call using get_batches_fn(batch_size)\n",
    "    :param train_op: TF Operation to train the neural network\n",
    "    :param cross_entropy_loss: TF Tensor for the amount of loss\n",
    "    :param input_image: TF Placeholder for input images\n",
    "    :param correct_label: TF Placeholder for label images\n",
    "    :param keep_prob: TF Placeholder for dropout keep probability\n",
    "    :param learning_rate: TF Placeholder for learning rate\n",
    "    \"\"\"\n",
    "    # TODO: Implement function\n",
    "    for epoch in range(epochs):\n",
    "        batch_loss = []\n",
    "\n",
    "        for image, label in get_batches_fn(batch_size):\n",
    "            feed_dict = {input_image: image, correct_label: label, keep_prob: g_keep_prob, learning_rate: g_learning_rate}\n",
    "\n",
    "            _, loss = sess.run([train_op, cross_entropy_loss], feed_dict=feed_dict)\n",
    "            batch_loss.append(loss)\n",
    "\n",
    "        print(\"Epoch {0}: Training loss: {1}\".format(epoch + 1, sum(batch_loss)))"
   ]
  },
  {
   "cell_type": "code",
   "execution_count": null,
   "metadata": {
    "collapsed": true
   },
   "outputs": [],
   "source": [
    "def run():\n",
    "    start_time = time.time()\n",
    "\n",
    "    num_classes = 2\n",
    "    image_shape = (160, 576)\n",
    "    data_dir = './data'\n",
    "    runs_dir = './runs'\n",
    "\n",
    "    # Download pretrained vgg model\n",
    "    helper.maybe_download_pretrained_vgg(data_dir)\n",
    "\n",
    "    # OPTIONAL: Train and Inference on the cityscapes dataset instead of the Kitti dataset.\n",
    "    # You'll need a GPU with at least 10 teraFLOPS to train on.\n",
    "    #  https://www.cityscapes-dataset.com/\n",
    "\n",
    "    # Placeholder tensors\n",
    "    correct_label = tf.placeholder(tf.float32, [None, image_shape[0], image_shape[1], num_classes])\n",
    "    keep_prob = tf.placeholder(tf.float32)\n",
    "    learning_rate = tf.placeholder(tf.float32)\n",
    "\n",
    "\n",
    "    with tf.Session() as sess:\n",
    "        # Path to vgg model\n",
    "        vgg_path = os.path.join(data_dir, 'vgg')\n",
    "        # Create function to get batches\n",
    "        get_batches_fn = helper.gen_batch_function(os.path.join(data_dir, 'data_road/training'), image_shape)\n",
    "\n",
    "        # OPTIONAL: Augment Images for better results\n",
    "        #  https://datascience.stackexchange.com/questions/5224/how-to-prepare-augment-images-for-neural-network\n",
    "\n",
    "        # TODO: Build NN using load_vgg, layers, and optimize function\n",
    "        input_image, keep_prob, layer3, layer4, layer7 = load_vgg(sess, vgg_path)\n",
    "        decoderlayer_output = layers(layer3, layer4, layer7, num_classes)\n",
    "        logits, train_op, cross_entropy_loss = optimize(decoderlayer_output, correct_label, learning_rate, num_classes)\n",
    "\n",
    "        # TODO: Train NN using the train_nn function\n",
    "        sess.run(tf.global_variables_initializer())\n",
    "\n",
    "        train_nn(sess, 160, g_batch_size, get_batches_fn, train_op, cross_entropy_loss, input_image,\n",
    "             correct_label, keep_prob, learning_rate)\n",
    "\n",
    "        # TODO: Save inference data using helper.save_inference_samples\n",
    "        helper.save_inference_samples(runs_dir, data_dir, sess, image_shape, logits, keep_prob, input_image)\n",
    "\n",
    "\n",
    "        # OPTIONAL: Apply the trained model to a video\n",
    "\n",
    "    print(\"Training and predicting took {} seconds.\".format(time.time() - start_time))"
   ]
  }
 ],
 "metadata": {
  "kernelspec": {
   "display_name": "Python [conda env:tensorflow]",
   "language": "python",
   "name": "conda-env-tensorflow-py"
  },
  "language_info": {
   "codemirror_mode": {
    "name": "ipython",
    "version": 3
   },
   "file_extension": ".py",
   "mimetype": "text/x-python",
   "name": "python",
   "nbconvert_exporter": "python",
   "pygments_lexer": "ipython3",
   "version": "3.6.1"
  }
 },
 "nbformat": 4,
 "nbformat_minor": 2
}
